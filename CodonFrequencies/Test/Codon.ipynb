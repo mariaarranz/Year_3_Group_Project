{
 "cells": [
  {
   "cell_type": "code",
   "execution_count": 1,
   "metadata": {},
   "outputs": [
    {
     "name": "stdout",
     "output_type": "stream",
     "text": [
      "           Gene ID        answer ID  \\\n",
      "0  ENSG00000000003  ENST00000373020   \n",
      "1  ENSG00000000419  ENST00000612152   \n",
      "2  ENSG00000000457  ENST00000614008   \n",
      "3  ENSG00000000460  ENST00000371588   \n",
      "4  ENSG00000000938  ENST00000371582   \n",
      "\n",
      "                                                 CDS  \n",
      "0  ATGGCGTCCCCGTCTCGGAGACTGCAGACTAAACCAGTCATTACTT...  \n",
      "1  ATGCTAAAACTGTATGCAATGTTTCTGACTCTCGTTTTTTTGGTCG...  \n",
      "2  ATGCTAAAACTGTATGCAATGTTTCTGACTCTCGTTTTTTTGGTCG...  \n",
      "3  ATGGCCTCCTTGGAAGTCAGTCGTAGTCCTCGCAGGTCTCGGCGGG...  \n",
      "4  ATGGCCTCCTTGGAAGTCAGTCGTAGTCCTCGCAGGTCTCGGCGGG...  \n"
     ]
    }
   ],
   "source": [
    "# -*- coding: utf-8 -*-\n",
    "\"\"\"\n",
    "Year 3 Project: Codons\n",
    "Code to extract protein ID from table and \n",
    "retrieve the cds's from the Ensembl server.\n",
    "Careful: loops through whole table so only use once on college computer!\n",
    "Created on Mon Dec  9 17:54:22 2019\n",
    "@author: Marianne Buat\n",
    "\"\"\"\n",
    "#import relevant libraries\n",
    "\n",
    "import pandas as pd\n",
    "import requests, sys #to communicate with Ensembl servers\n",
    "import json \n",
    "\n",
    "xls_file = pd.ExcelFile('Table_EV1_mini.xlsx') # Import the excel file and call it xls_file\n",
    "df = xls_file.parse('C. GenesMini') #import into pandas only one of the sheets  \n",
    "\n",
    "db_len = len(df)\n",
    "#Create an output dataframe with only the parts we are interested in\n",
    "geneIDs = df.get('Gene ID')\n",
    "CDS=pd.Series([]) #Create new series to contain the sequences, will then be added to output dataframe\n",
    "actualID=pd.Series([])\n",
    "\n",
    "maxQueryLen = 10 #actually 50\n",
    "server = \"https://rest.ensembl.org\"\n",
    "ext = \"/sequence/id\"\n",
    "headers={ \"Content-Type\" : \"application/json\", \"Accept\" : \"application/json\",\"type\":'cds'}\n",
    "\n",
    "\n",
    "#Loop through huge table to retrieve all sequences\n",
    "ind = 0\n",
    "#while ind+maxQueryLen<=db_len:\n",
    "gene_ids = geneIDs[ind:ind+maxQueryLen+1] #select 50 IDs from table\n",
    "id_list=gene_ids.values.tolist() #convert dataframe slice to list\n",
    " #convert to json string for compatibility (could also have used str())\n",
    "\n",
    "inputData = json.dumps({'ids':id_list,'type':['cds']*len(id_list)}) #dictionary with ids and output type cds for all; \n",
    "\n",
    "r = requests.post(server+ext, headers=headers, data=inputData) #request data from server        \n",
    "if not r.ok:\n",
    "  r.raise_for_status()\n",
    "  sys.exit()\n",
    " \n",
    "decoded = r.json() #read response from server\n",
    "#decoded is a list of dictionaries\n",
    "for k in range(len(id_list)):\n",
    " CDS[ind+k] = decoded[k]['seq'] #store the retrieved sequences\n",
    " actualID[ind+k] = decoded[k]['id']\n",
    "\n",
    "#Create an output dataframe for the results\n",
    "\n",
    "outputDF = pd.DataFrame({'Gene ID':geneIDs,'answer ID':actualID,'CDS':CDS})\n",
    "print(outputDF.head())                                                                \n",
    "\n",
    "# #Save to file\n",
    "# writer = pd.ExcelWriter('CDSQueryOutput.xlsx')\n",
    "# outputDF.to_excel(writer)\n",
    "# writer.save()\n",
    "# print('Output is written successfully to Excel File.')"
   ]
  },
  {
   "cell_type": "code",
   "execution_count": 4,
   "metadata": {},
   "outputs": [
    {
     "name": "stdout",
     "output_type": "stream",
     "text": [
      "{'TTT': 0, 'TTC': 0, 'TTA': 0, 'TTG': 0, 'CTT': 0, 'CTC': 0, 'CTA': 0, 'CTG': 0, 'ATT': 0, 'ATC': 1, 'ATA': 1, 'ATG': 0, 'GTT': 0, 'GTC': 0, 'GTA': 0, 'GTG': 0, 'TAT': 1, 'TAC': 0, 'TAA': 0, 'TAG': 0, 'CAT': 0, 'CAC': 0, 'CAA': 0, 'CAG': 0, 'AAT': 0, 'AAC': 0, 'AAA': 1, 'AAG': 0, 'GAT': 1, 'GAC': 0, 'GAA': 0, 'GAG': 0, 'TCT': 0, 'TCC': 0, 'TCA': 0, 'TCG': 1, 'CCT': 0, 'CCC': 0, 'CCA': 0, 'CCG': 0, 'ACT': 0, 'ACC': 0, 'ACA': 0, 'ACG': 0, 'GCT': 0, 'GCC': 1, 'GCA': 0, 'GCG': 0, 'TGT': 0, 'TGC': 0, 'TGA': 0, 'TGG': 1, 'CGT': 0, 'CGC': 0, 'CGA': 1, 'CGG': 0, 'AGT': 0, 'AGC': 0, 'AGA': 0, 'AGG': 0, 'GGT': 0, 'GGC': 0, 'GGA': 1, 'GGG': 0}\n"
     ]
    }
   ],
   "source": [
    "#code for CodonTable fonction \n",
    "from Bio.Seq import Seq\n",
    "from Bio.Alphabet import IUPAC\n",
    "\n",
    "def CodonTable (my_seq):\n",
    "    CodonsDict = { \n",
    "    \"TTT\": 0, \"TTC\": 0, \"TTA\": 0, \"TTG\": 0, \"CTT\": 0, \n",
    "    \"CTC\": 0, \"CTA\": 0, \"CTG\": 0, \"ATT\": 0, \"ATC\": 0, \n",
    "    \"ATA\": 0, \"ATG\": 0, \"GTT\": 0, \"GTC\": 0, \"GTA\": 0, \n",
    "    \"GTG\": 0, \"TAT\": 0, \"TAC\": 0, \"TAA\": 0, \"TAG\": 0, \n",
    "    \"CAT\": 0, \"CAC\": 0, \"CAA\": 0, \"CAG\": 0, \"AAT\": 0, \n",
    "    \"AAC\": 0, \"AAA\": 0, \"AAG\": 0, \"GAT\": 0, \"GAC\": 0, \n",
    "    \"GAA\": 0, \"GAG\": 0, \"TCT\": 0, \"TCC\": 0, \"TCA\": 0, \n",
    "    \"TCG\": 0, \"CCT\": 0, \"CCC\": 0, \"CCA\": 0, \"CCG\": 0, \n",
    "    \"ACT\": 0, \"ACC\": 0, \"ACA\": 0, \"ACG\": 0, \"GCT\": 0, \n",
    "    \"GCC\": 0, \"GCA\": 0, \"GCG\": 0, \"TGT\": 0, \"TGC\": 0, \n",
    "    \"TGA\": 0, \"TGG\": 0, \"CGT\": 0, \"CGC\": 0, \"CGA\": 0, \n",
    "    \"CGG\": 0, \"AGT\": 0, \"AGC\": 0, \"AGA\": 0, \"AGG\": 0, \n",
    "    \"GGT\": 0, \"GGC\": 0, \"GGA\": 0, \"GGG\": 0} \n",
    "    list_nucleotides =[my_seq[i:i+3] for i in range(0, len(my_seq), 3)]\n",
    "    NumberCodons=0     \n",
    "    for nucleotide in list_nucleotides:\n",
    "        if not nucleotide in CodonsDict:\n",
    "            continue\n",
    "\n",
    "        else:\n",
    "            CodonsDict[nucleotide]+= 1\n",
    "            NumberCodons+=1\n",
    "    return CodonsDict\n",
    "\n",
    "print(CodonTable(my_seq))\n"
   ]
  },
  {
   "cell_type": "code",
   "execution_count": 18,
   "metadata": {},
   "outputs": [
    {
     "name": "stdout",
     "output_type": "stream",
     "text": [
      "34\n",
      "    AAA  AAC   AAG  AAT  ACA  ACC  ACG  ACT  AGA  AGC  ...  TCG  TCT  TGA  \\\n",
      "0   5.0  4.0  10.0  9.0  3.0  6.0  1.0  8.0  5.0  4.0  ...  0.0  5.0  0.0   \n",
      "1   4.0  4.0   6.0  6.0  3.0  1.0  1.0  3.0  4.0  2.0  ...  0.0  2.0  0.0   \n",
      "2   4.0  3.0   7.0  5.0  2.0  2.0  1.0  3.0  4.0  2.0  ...  0.0  1.0  0.0   \n",
      "3  13.0  5.0   5.0  5.0  4.0  1.0  0.0  6.0  6.0  3.0  ...  1.0  5.0  0.0   \n",
      "4  13.0  5.0   5.0  5.0  4.0  1.0  0.0  6.0  6.0  3.0  ...  1.0  5.0  0.0   \n",
      "\n",
      "   TGC  TGG  TGT  TTA  TTC   TTG   TTT  \n",
      "0  4.0  4.0  7.0  1.0  5.0   4.0  12.0  \n",
      "1  2.0  1.0  4.0  0.0  1.0   3.0   6.0  \n",
      "2  2.0  1.0  5.0  0.0  2.0   3.0   7.0  \n",
      "3  0.0  2.0  1.0  6.0  4.0   9.0   6.0  \n",
      "4  1.0  4.0  2.0  6.0  4.0  11.0   6.0  \n",
      "\n",
      "[5 rows x 64 columns]\n"
     ]
    }
   ],
   "source": [
    "\n",
    "import pandas as pd\n",
    "import requests, sys #to communicate with Ensembl servers\n",
    "import json \n",
    "\n",
    "xls_file = pd.ExcelFile('CDSOutput.xlsx') # Import the excel file and call it xls_file\n",
    "df = xls_file.parse() #import into pandas dataframe object  \n",
    "\n",
    "db_len = len(df)\n",
    "print(db_len)\n",
    "\n",
    "gene_ids = df.get('CDS')#only the CDS column\n",
    "output = pd.DataFrame()#empt7 df\n",
    "for i in range(len(gene_ids)):\n",
    "    seq = gene_ids[i]\n",
    "    codon=CodonTable(seq)#use of CodontTable fonction that outputs a dictionary \n",
    "    output = output.append(codon, ignore_index=True)#append as rows with column the dictionary keys\n",
    "    k=k+1\n",
    "print(output.head())\n",
    "\n",
    "df_merge_col = pd.merge(df, output, left_index=True, right_index=True)# use merge method, not join to add with respect to rows\n",
    "df_merge_col.to_csv('CodonTableMini.csv',index=False)#use this method to save to csv, traditinal format, better than excel\n"
   ]
  },
  {
   "cell_type": "code",
   "execution_count": null,
   "metadata": {},
   "outputs": [],
   "source": []
  },
  {
   "cell_type": "code",
   "execution_count": null,
   "metadata": {},
   "outputs": [],
   "source": []
  },
  {
   "cell_type": "code",
   "execution_count": null,
   "metadata": {},
   "outputs": [],
   "source": []
  }
 ],
 "metadata": {
  "kernelspec": {
   "display_name": "Python 3",
   "language": "python",
   "name": "python3"
  },
  "language_info": {
   "codemirror_mode": {
    "name": "ipython",
    "version": 3
   },
   "file_extension": ".py",
   "mimetype": "text/x-python",
   "name": "python",
   "nbconvert_exporter": "python",
   "pygments_lexer": "ipython3",
   "version": "3.7.6"
  }
 },
 "nbformat": 4,
 "nbformat_minor": 2
}
