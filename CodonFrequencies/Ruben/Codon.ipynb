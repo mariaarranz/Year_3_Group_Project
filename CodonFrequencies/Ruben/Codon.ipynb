{
 "cells": [
  {
   "cell_type": "code",
   "execution_count": 3,
   "metadata": {},
   "outputs": [
    {
     "ename": "ImportError",
     "evalue": "Missing optional dependency 'xlrd'. Install xlrd >= 1.0.0 for Excel support Use pip or conda to install xlrd.",
     "output_type": "error",
     "traceback": [
      "\u001b[1;31m---------------------------------------------------------------------------\u001b[0m",
      "\u001b[1;31mImportError\u001b[0m                               Traceback (most recent call last)",
      "\u001b[1;32m<ipython-input-3-f115ea632c72>\u001b[0m in \u001b[0;36m<module>\u001b[1;34m\u001b[0m\n\u001b[0;32m     14\u001b[0m \u001b[1;32mimport\u001b[0m \u001b[0mjson\u001b[0m\u001b[1;33m\u001b[0m\u001b[1;33m\u001b[0m\u001b[0m\n\u001b[0;32m     15\u001b[0m \u001b[1;33m\u001b[0m\u001b[0m\n\u001b[1;32m---> 16\u001b[1;33m \u001b[0mxls_file\u001b[0m \u001b[1;33m=\u001b[0m \u001b[0mpd\u001b[0m\u001b[1;33m.\u001b[0m\u001b[0mExcelFile\u001b[0m\u001b[1;33m(\u001b[0m\u001b[1;34m'Data/Table_EV1.xlsx'\u001b[0m\u001b[1;33m)\u001b[0m \u001b[1;31m# Import the excel file and call it xls_file\u001b[0m\u001b[1;33m\u001b[0m\u001b[1;33m\u001b[0m\u001b[0m\n\u001b[0m\u001b[0;32m     17\u001b[0m \u001b[0mdf\u001b[0m \u001b[1;33m=\u001b[0m \u001b[0mxls_file\u001b[0m\u001b[1;33m.\u001b[0m\u001b[0mparse\u001b[0m\u001b[1;33m(\u001b[0m\u001b[1;34m'C. Genes'\u001b[0m\u001b[1;33m)\u001b[0m \u001b[1;31m#import into pandas only one of the sheets\u001b[0m\u001b[1;33m\u001b[0m\u001b[1;33m\u001b[0m\u001b[0m\n\u001b[0;32m     18\u001b[0m \u001b[1;33m\u001b[0m\u001b[0m\n",
      "\u001b[1;32mc:\\users\\maria\\appdata\\local\\programs\\python\\python37\\lib\\site-packages\\pandas\\io\\excel\\_base.py\u001b[0m in \u001b[0;36m__init__\u001b[1;34m(self, io, engine)\u001b[0m\n\u001b[0;32m    817\u001b[0m         \u001b[0mself\u001b[0m\u001b[1;33m.\u001b[0m\u001b[0m_io\u001b[0m \u001b[1;33m=\u001b[0m \u001b[0m_stringify_path\u001b[0m\u001b[1;33m(\u001b[0m\u001b[0mio\u001b[0m\u001b[1;33m)\u001b[0m\u001b[1;33m\u001b[0m\u001b[1;33m\u001b[0m\u001b[0m\n\u001b[0;32m    818\u001b[0m \u001b[1;33m\u001b[0m\u001b[0m\n\u001b[1;32m--> 819\u001b[1;33m         \u001b[0mself\u001b[0m\u001b[1;33m.\u001b[0m\u001b[0m_reader\u001b[0m \u001b[1;33m=\u001b[0m \u001b[0mself\u001b[0m\u001b[1;33m.\u001b[0m\u001b[0m_engines\u001b[0m\u001b[1;33m[\u001b[0m\u001b[0mengine\u001b[0m\u001b[1;33m]\u001b[0m\u001b[1;33m(\u001b[0m\u001b[0mself\u001b[0m\u001b[1;33m.\u001b[0m\u001b[0m_io\u001b[0m\u001b[1;33m)\u001b[0m\u001b[1;33m\u001b[0m\u001b[1;33m\u001b[0m\u001b[0m\n\u001b[0m\u001b[0;32m    820\u001b[0m \u001b[1;33m\u001b[0m\u001b[0m\n\u001b[0;32m    821\u001b[0m     \u001b[1;32mdef\u001b[0m \u001b[0m__fspath__\u001b[0m\u001b[1;33m(\u001b[0m\u001b[0mself\u001b[0m\u001b[1;33m)\u001b[0m\u001b[1;33m:\u001b[0m\u001b[1;33m\u001b[0m\u001b[1;33m\u001b[0m\u001b[0m\n",
      "\u001b[1;32mc:\\users\\maria\\appdata\\local\\programs\\python\\python37\\lib\\site-packages\\pandas\\io\\excel\\_xlrd.py\u001b[0m in \u001b[0;36m__init__\u001b[1;34m(self, filepath_or_buffer)\u001b[0m\n\u001b[0;32m     18\u001b[0m         \"\"\"\n\u001b[0;32m     19\u001b[0m         \u001b[0merr_msg\u001b[0m \u001b[1;33m=\u001b[0m \u001b[1;34m\"Install xlrd >= 1.0.0 for Excel support\"\u001b[0m\u001b[1;33m\u001b[0m\u001b[1;33m\u001b[0m\u001b[0m\n\u001b[1;32m---> 20\u001b[1;33m         \u001b[0mimport_optional_dependency\u001b[0m\u001b[1;33m(\u001b[0m\u001b[1;34m\"xlrd\"\u001b[0m\u001b[1;33m,\u001b[0m \u001b[0mextra\u001b[0m\u001b[1;33m=\u001b[0m\u001b[0merr_msg\u001b[0m\u001b[1;33m)\u001b[0m\u001b[1;33m\u001b[0m\u001b[1;33m\u001b[0m\u001b[0m\n\u001b[0m\u001b[0;32m     21\u001b[0m         \u001b[0msuper\u001b[0m\u001b[1;33m(\u001b[0m\u001b[1;33m)\u001b[0m\u001b[1;33m.\u001b[0m\u001b[0m__init__\u001b[0m\u001b[1;33m(\u001b[0m\u001b[0mfilepath_or_buffer\u001b[0m\u001b[1;33m)\u001b[0m\u001b[1;33m\u001b[0m\u001b[1;33m\u001b[0m\u001b[0m\n\u001b[0;32m     22\u001b[0m \u001b[1;33m\u001b[0m\u001b[0m\n",
      "\u001b[1;32mc:\\users\\maria\\appdata\\local\\programs\\python\\python37\\lib\\site-packages\\pandas\\compat\\_optional.py\u001b[0m in \u001b[0;36mimport_optional_dependency\u001b[1;34m(name, extra, raise_on_missing, on_version)\u001b[0m\n\u001b[0;32m     91\u001b[0m     \u001b[1;32mexcept\u001b[0m \u001b[0mImportError\u001b[0m\u001b[1;33m:\u001b[0m\u001b[1;33m\u001b[0m\u001b[1;33m\u001b[0m\u001b[0m\n\u001b[0;32m     92\u001b[0m         \u001b[1;32mif\u001b[0m \u001b[0mraise_on_missing\u001b[0m\u001b[1;33m:\u001b[0m\u001b[1;33m\u001b[0m\u001b[1;33m\u001b[0m\u001b[0m\n\u001b[1;32m---> 93\u001b[1;33m             \u001b[1;32mraise\u001b[0m \u001b[0mImportError\u001b[0m\u001b[1;33m(\u001b[0m\u001b[0mmessage\u001b[0m\u001b[1;33m.\u001b[0m\u001b[0mformat\u001b[0m\u001b[1;33m(\u001b[0m\u001b[0mname\u001b[0m\u001b[1;33m=\u001b[0m\u001b[0mname\u001b[0m\u001b[1;33m,\u001b[0m \u001b[0mextra\u001b[0m\u001b[1;33m=\u001b[0m\u001b[0mextra\u001b[0m\u001b[1;33m)\u001b[0m\u001b[1;33m)\u001b[0m \u001b[1;32mfrom\u001b[0m \u001b[1;32mNone\u001b[0m\u001b[1;33m\u001b[0m\u001b[1;33m\u001b[0m\u001b[0m\n\u001b[0m\u001b[0;32m     94\u001b[0m         \u001b[1;32melse\u001b[0m\u001b[1;33m:\u001b[0m\u001b[1;33m\u001b[0m\u001b[1;33m\u001b[0m\u001b[0m\n\u001b[0;32m     95\u001b[0m             \u001b[1;32mreturn\u001b[0m \u001b[1;32mNone\u001b[0m\u001b[1;33m\u001b[0m\u001b[1;33m\u001b[0m\u001b[0m\n",
      "\u001b[1;31mImportError\u001b[0m: Missing optional dependency 'xlrd'. Install xlrd >= 1.0.0 for Excel support Use pip or conda to install xlrd."
     ]
    }
   ],
   "source": [
    "# -*- coding: utf-8 -*-\n",
    "\"\"\"\n",
    "Year 3 Project: Codons\n",
    "Code to extract protein ID from table and \n",
    "retrieve the cds's from the Ensembl server.\n",
    "Careful: loops through whole table so only use once on college computer!\n",
    "Created on Mon Dec  9 17:54:22 2019\n",
    "@author: Marianne Buat\n",
    "\"\"\"\n",
    "#import relevant libraries\n",
    "\n",
    "import pandas as pd\n",
    "import requests, sys #to communicate with Ensembl servers\n",
    "import json \n",
    "\n",
    "xls_file = pd.ExcelFile('Data/Table_EV1.xlsx') # Import the excel file and call it xls_file\n",
    "df = xls_file.parse('C. Genes') #import into pandas only one of the sheets  \n",
    "\n",
    "db_len = len(df)\n",
    "#Create an output dataframe with only the parts we are interested in\n",
    "geneIDs = df.get('Gene ID')\n",
    "CDS=pd.Series([]) #Create new series to contain the sequences, will then be added to output dataframe\n",
    "actualID=pd.Series([])\n",
    "\n",
    "maxQueryLen = 10 #actually 50\n",
    "server = \"https://rest.ensembl.org\"\n",
    "ext = \"/sequence/id\"\n",
    "headers={ \"Content-Type\" : \"application/json\", \"Accept\" : \"application/json\",\"type\":'cds'}\n",
    "\n",
    "\n",
    "#Loop through huge table to retrieve all sequences\n",
    "ind = 0\n",
    "#while ind+maxQueryLen<=db_len:\n",
    "gene_ids = geneIDs[ind:ind+maxQueryLen+1] #select 50 IDs from table\n",
    "id_list=gene_ids.values.tolist() #convert dataframe slice to list\n",
    " #convert to json string for compatibility (could also have used str())\n",
    "\n",
    "inputData = json.dumps({'ids':id_list,'type':['cds']*len(id_list)}) #dictionary with ids and output type cds for all; \n",
    "\n",
    "r = requests.post(server+ext, headers=headers, data=inputData) #request data from server        \n",
    "if not r.ok:\n",
    "  r.raise_for_status()\n",
    "  sys.exit()\n",
    " \n",
    "decoded = r.json() #read response from server\n",
    "#decoded is a list of dictionaries\n",
    "for k in range(len(id_list)):\n",
    " CDS[ind+k] = decoded[k]['seq'] #store the retrieved sequences\n",
    " actualID[ind+k] = decoded[k]['id']\n",
    "\n",
    "#Create an output dataframe for the results\n",
    "\n",
    "outputDF = pd.DataFrame({'Gene ID':geneIDs,'answer ID':actualID,'CDS':CDS})\n",
    "print(outputDF.head())                                                                \n",
    "\n",
    "# #Save to file\n",
    "# writer = pd.ExcelWriter('CDSQueryOutput.xlsx')\n",
    "# outputDF.to_excel(writer)\n",
    "# writer.save()\n",
    "# print('Output is written successfully to Excel File.')"
   ]
  },
  {
   "cell_type": "code",
   "execution_count": 15,
   "metadata": {},
   "outputs": [
    {
     "name": "stdout",
     "output_type": "stream",
     "text": [
      "{'TTT': 0, 'TTC': 0, 'TTA': 0, 'TTG': 0, 'CTT': 0, 'CTC': 0, 'CTA': 0, 'CTG': 0, 'ATT': 0, 'ATC': 1, 'ATA': 1, 'ATG': 0, 'GTT': 0, 'GTC': 0, 'GTA': 0, 'GTG': 0, 'TAT': 1, 'TAC': 0, 'TAA': 0, 'TAG': 0, 'CAT': 0, 'CAC': 0, 'CAA': 0, 'CAG': 0, 'AAT': 0, 'AAC': 0, 'AAA': 1, 'AAG': 0, 'GAT': 1, 'GAC': 0, 'GAA': 0, 'GAG': 0, 'TCT': 0, 'TCC': 0, 'TCA': 0, 'TCG': 1, 'CCT': 0, 'CCC': 0, 'CCA': 0, 'CCG': 0, 'ACT': 0, 'ACC': 0, 'ACA': 0, 'ACG': 0, 'GCT': 0, 'GCC': 1, 'GCA': 0, 'GCG': 0, 'TGT': 0, 'TGC': 0, 'TGA': 0, 'TGG': 1, 'CGT': 0, 'CGC': 0, 'CGA': 1, 'CGG': 0, 'AGT': 0, 'AGC': 0, 'AGA': 0, 'AGG': 0, 'GGT': 0, 'GGC': 0, 'GGA': 1, 'GGG': 0}\n"
     ]
    }
   ],
   "source": [
    "#code for CodonTable fonction \n",
    "from Bio.Seq import Seq\n",
    "from Bio.Alphabet import IUPAC\n",
    "my_seq = Seq(\"GATCGATGGGCCTATATAGGATCGAAAATCGC\", IUPAC.unambiguous_dna)\n",
    "\n",
    "\n",
    "def CodonTable (my_seq):\n",
    "    CodonsDict = { \n",
    "    \"TTT\": 0, \"TTC\": 0, \"TTA\": 0, \"TTG\": 0, \"CTT\": 0, \n",
    "    \"CTC\": 0, \"CTA\": 0, \"CTG\": 0, \"ATT\": 0, \"ATC\": 0, \n",
    "    \"ATA\": 0, \"ATG\": 0, \"GTT\": 0, \"GTC\": 0, \"GTA\": 0, \n",
    "    \"GTG\": 0, \"TAT\": 0, \"TAC\": 0, \"TAA\": 0, \"TAG\": 0, \n",
    "    \"CAT\": 0, \"CAC\": 0, \"CAA\": 0, \"CAG\": 0, \"AAT\": 0, \n",
    "    \"AAC\": 0, \"AAA\": 0, \"AAG\": 0, \"GAT\": 0, \"GAC\": 0, \n",
    "    \"GAA\": 0, \"GAG\": 0, \"TCT\": 0, \"TCC\": 0, \"TCA\": 0, \n",
    "    \"TCG\": 0, \"CCT\": 0, \"CCC\": 0, \"CCA\": 0, \"CCG\": 0, \n",
    "    \"ACT\": 0, \"ACC\": 0, \"ACA\": 0, \"ACG\": 0, \"GCT\": 0, \n",
    "    \"GCC\": 0, \"GCA\": 0, \"GCG\": 0, \"TGT\": 0, \"TGC\": 0, \n",
    "    \"TGA\": 0, \"TGG\": 0, \"CGT\": 0, \"CGC\": 0, \"CGA\": 0, \n",
    "    \"CGG\": 0, \"AGT\": 0, \"AGC\": 0, \"AGA\": 0, \"AGG\": 0, \n",
    "    \"GGT\": 0, \"GGC\": 0, \"GGA\": 0, \"GGG\": 0} \n",
    "    list_nucleotides =[my_seq[i:i+3] for i in range(0, len(my_seq), 3)]\n",
    "    NumberCodons=0     \n",
    "    for nucleotide in list_nucleotides:\n",
    "        if not nucleotide in CodonsDict:\n",
    "            continue\n",
    "\n",
    "        else:\n",
    "            CodonsDict[nucleotide]+= 1\n",
    "            NumberCodons+=1\n",
    "    return CodonsDict\n",
    "\n",
    "print(CodonTable(my_seq))\n"
   ]
  },
  {
   "cell_type": "code",
   "execution_count": 57,
   "metadata": {},
   "outputs": [
    {
     "name": "stdout",
     "output_type": "stream",
     "text": [
      "    AAA   AAC   AAG   AAT   ACA   ACC  ACG   ACT  AGA  AGC  ...  TCG   TCT  \\\n",
      "0   5.0   4.0  10.0   9.0   3.0   6.0  1.0   8.0  5.0  4.0  ...  0.0   5.0   \n",
      "1  13.0   5.0   5.0   5.0   4.0   1.0  0.0   6.0  6.0  3.0  ...  1.0   5.0   \n",
      "2  23.0   6.0  19.0  14.0  11.0   7.0  1.0  19.0  8.0  9.0  ...  1.0  18.0   \n",
      "3   2.0   1.0   4.0   6.0   5.0   2.0  0.0   3.0  1.0  2.0  ...  0.0   3.0   \n",
      "4   5.0  13.0  24.0   3.0   3.0  17.0  5.0   6.0  4.0  9.0  ...  2.0   2.0   \n",
      "\n",
      "   TGA  TGC   TGG  TGT   TTA   TTC   TTG   TTT  \n",
      "0  0.0  4.0   4.0  7.0   1.0   5.0   4.0  12.0  \n",
      "1  0.0  0.0   2.0  1.0   6.0   4.0   9.0   6.0  \n",
      "2  1.0  6.0  10.0  7.0  11.0  11.0  21.0  22.0  \n",
      "3  1.0  1.0   0.0  4.0   9.0   3.0   4.0   3.0  \n",
      "4  0.0  9.0  10.0  2.0   0.0  16.0   6.0   7.0  \n",
      "\n",
      "[5 rows x 64 columns]\n"
     ]
    }
   ],
   "source": [
    "\n",
    "import pandas as pd\n",
    "import requests, sys #to communicate with Ensembl servers\n",
    "import json \n",
    "\n",
    "xls_file = pd.ExcelFile('Data/CDSFromGeneID.xlsx') # Import the excel file and call it xls_file\n",
    "df = xls_file.parse() #import into pandas dataframe object  \n",
    "\n",
    "db_len = len(df)\n",
    "\n",
    "gene_ids = df.get('CDS')#only the CDS column\n",
    "output = pd.DataFrame()#empt7 df\n",
    "for i in range(2846):\n",
    "    codon=CodonTable(gene_ids[i])#use of CodontTable fonction that outputs a dictionary \n",
    "    output = output.append(codon, ignore_index=True)#append as rows with column the dictionary keys\n",
    "    k=k+1\n",
    "print(output.head())\n",
    "df_merge_col = pd.merge(df, output, left_index=True, right_index=True)# use merge method, not join to add with respect to rows\n",
    "df_merge_col.to_csv('CodonTable.csv',index=False)#use this method to save to csv, traditinal format, better than excel\n"
   ]
  },
  {
   "cell_type": "code",
   "execution_count": null,
   "metadata": {},
   "outputs": [],
   "source": []
  },
  {
   "cell_type": "code",
   "execution_count": null,
   "metadata": {},
   "outputs": [],
   "source": []
  },
  {
   "cell_type": "code",
   "execution_count": null,
   "metadata": {},
   "outputs": [],
   "source": []
  }
 ],
 "metadata": {
  "kernelspec": {
   "display_name": "Python 3",
   "language": "python",
   "name": "python3"
  }
 },
 "nbformat": 4,
 "nbformat_minor": 2
}
